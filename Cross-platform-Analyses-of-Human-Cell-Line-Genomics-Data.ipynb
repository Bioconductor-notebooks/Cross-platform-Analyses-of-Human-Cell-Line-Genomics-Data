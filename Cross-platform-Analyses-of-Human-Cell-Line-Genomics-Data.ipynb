{
 "cells": [
  {
   "cell_type": "markdown",
   "metadata": {
    "cell_style": "center",
    "toc": "true"
   },
   "source": [
    "# Table of Contents\n",
    " <p><div class=\"lev2 toc-item\"><a href=\"#Motivation-and-Overview\" data-toc-modified-id=\"Motivation-and-Overview-01\"><span class=\"toc-item-num\">0.1&nbsp;&nbsp;</span>Motivation and Overview</a></div><div class=\"lev2 toc-item\"><a href=\"#Data:-Types,-Sources\" data-toc-modified-id=\"Data:-Types,-Sources-02\"><span class=\"toc-item-num\">0.2&nbsp;&nbsp;</span>Data: Types, Sources</a></div><div class=\"lev3 toc-item\"><a href=\"#Reading-Datasets\" data-toc-modified-id=\"Reading-Datasets-021\"><span class=\"toc-item-num\">0.2.1&nbsp;&nbsp;</span>Reading Datasets</a></div><div class=\"lev4 toc-item\"><a href=\"#Reading-CCLE-Data\" data-toc-modified-id=\"Reading-CCLE-Data-0211\"><span class=\"toc-item-num\">0.2.1.1&nbsp;&nbsp;</span>Reading CCLE Data</a></div><div class=\"lev4 toc-item\"><a href=\"#Reading-L1K++-Data\" data-toc-modified-id=\"Reading-L1K++-Data-0212\"><span class=\"toc-item-num\">0.2.1.2&nbsp;&nbsp;</span>Reading L1K++ Data</a></div><div class=\"lev4 toc-item\"><a href=\"#Reading-RNAseq-Data\" data-toc-modified-id=\"Reading-RNAseq-Data-0213\"><span class=\"toc-item-num\">0.2.1.3&nbsp;&nbsp;</span>Reading RNAseq Data</a></div><div class=\"lev3 toc-item\"><a href=\"#Data-Standardization\" data-toc-modified-id=\"Data-Standardization-022\"><span class=\"toc-item-num\">0.2.2&nbsp;&nbsp;</span>Data Standardization</a></div><div class=\"lev3 toc-item\"><a href=\"#Intersection-of-Datasets\" data-toc-modified-id=\"Intersection-of-Datasets-023\"><span class=\"toc-item-num\">0.2.3&nbsp;&nbsp;</span>Intersection of Datasets</a></div><div class=\"lev3 toc-item\"><a href=\"#Loading-&amp;-Visualizing-the-Filtered-Datasets\" data-toc-modified-id=\"Loading-&amp;-Visualizing-the-Filtered-Datasets-024\"><span class=\"toc-item-num\">0.2.4&nbsp;&nbsp;</span>Loading &amp; Visualizing the Filtered Datasets</a></div><div class=\"lev4 toc-item\"><a href=\"#Heatmaps-for-Datasets\" data-toc-modified-id=\"Heatmaps-for-Datasets-0241\"><span class=\"toc-item-num\">0.2.4.1&nbsp;&nbsp;</span>Heatmaps for Datasets</a></div><div class=\"lev2 toc-item\"><a href=\"#Analysis-&amp;-Visualization\" data-toc-modified-id=\"Analysis-&amp;-Visualization-03\"><span class=\"toc-item-num\">0.3&nbsp;&nbsp;</span>Analysis &amp; Visualization</a></div><div class=\"lev3 toc-item\"><a href=\"#Computing-Cell-Line-Distances\" data-toc-modified-id=\"Computing-Cell-Line-Distances-031\"><span class=\"toc-item-num\">0.3.1&nbsp;&nbsp;</span>Computing Cell Line Distances</a></div><div class=\"lev4 toc-item\"><a href=\"#1.-L1K++--vs.-CCLE-Data-(55-cell-lines-x-978-genes)\" data-toc-modified-id=\"1.-L1K++--vs.-CCLE-Data-(55-cell-lines-x-978-genes)-0311\"><span class=\"toc-item-num\">0.3.1.1&nbsp;&nbsp;</span>1. L1K++  vs. CCLE Data (55 cell lines x 978 genes)</a></div><div class=\"lev4 toc-item\"><a href=\"#2.-L1K++--vs.-RNAseq-Data-(41-cell-lines-x-978-genes)\" data-toc-modified-id=\"2.-L1K++--vs.-RNAseq-Data-(41-cell-lines-x-978-genes)-0312\"><span class=\"toc-item-num\">0.3.1.2&nbsp;&nbsp;</span>2. L1K++  vs. RNAseq Data (41 cell lines x 978 genes)</a></div><div class=\"lev3 toc-item\"><a href=\"#Analysis-Visualization\" data-toc-modified-id=\"Analysis-Visualization-032\"><span class=\"toc-item-num\">0.3.2&nbsp;&nbsp;</span>Analysis Visualization</a></div><div class=\"lev4 toc-item\"><a href=\"#A.-Distance/Similarity-Visualization-(Heatmaps-&amp;-MDSs)\" data-toc-modified-id=\"A.-Distance/Similarity-Visualization-(Heatmaps-&amp;-MDSs)-0321\"><span class=\"toc-item-num\">0.3.2.1&nbsp;&nbsp;</span>A. Distance/Similarity Visualization (Heatmaps &amp; MDSs)</a></div><div class=\"lev4 toc-item\"><a href=\"#B.-Clustering-Visualization\" data-toc-modified-id=\"B.-Clustering-Visualization-0322\"><span class=\"toc-item-num\">0.3.2.2&nbsp;&nbsp;</span>B. Clustering Visualization</a></div><div class=\"lev1 toc-item\"><a href=\"#References\" data-toc-modified-id=\"References-1\"><span class=\"toc-item-num\">1&nbsp;&nbsp;</span>References</a></div>"
   ]
  },
  {
   "cell_type": "markdown",
   "metadata": {},
   "source": [
    "## Motivation and Overview  "
   ]
  },
  {
   "cell_type": "markdown",
   "metadata": {
    "cell_style": "center"
   },
   "source": [
    "The traditional process of drug discovery is extremely time-consuming and requires a large budget [1]. Recent advances in biotechnology has led to the generation of many different types of big biomedical data, which subsequently motivates the development of computational methods to analyze these data sources. In particular, L1000 technology that represents a high-throughput gene expression profiling technique. Due to cost, the L1000 technology developed by the Broad Institute selected approximately one thousand landmark genes as a representative sample of the human genome that originally contains over 20,000 genes [2]. The L1000 technology has enabled inexpensive measurements from more than one million experiments across eighty human cell lines.\n",
    "\n",
    "\n",
    "The LINCS (Library of Integrated Network based Cellular Signatures) program, funded by the National Institutes of Health, generates different types of data, including: gene expression, proteomic, and cell imaging data. These types enable scientists to understand the biological processes at the molecular and cellular level. One of the main objectives of the LINCS program is to study gene signatures resulted from perturbations applied to human cells. Using the L1000 technology mentioned above, the LINCS L1000 dataset contains the expression level of one thousand landmark genes measured in each of the perturbation experiments. This motivates us to explore cell line and drug similarities and integrate different data sources to correlate these similarities with gene/cell line signatures that could potentially contribute to novel drug discovery. The LINCS L1000 data generated by the Broad institute is publicly available online from http://lincscloud.org.\n",
    "\n",
    "we will focus on the data generated by the NIH LINCS (Library of Integrated Network-based Cellular Signatures) project. The LINCS (Library of Integrated Network-based Cellular Signatures)program provides big datasets of different types of biological assays from human cell lines under different experimental conditions. Many tools have been developed to access, integrate and visualize LINCS data. We use the LINCS L1000 gene expression data to explore similarities between different cell lines using different analysis methods, such as: pattern discovery techniques such as clustering and dimension reduction techniques. "
   ]
  },
  {
   "cell_type": "markdown",
   "metadata": {
    "cell_style": "center"
   },
   "source": [
    "## Data: Types, Sources"
   ]
  },
  {
   "cell_type": "markdown",
   "metadata": {
    "cell_style": "center"
   },
   "source": [
    "1. Library of Integrated Network-based Cellular Signatures(LINCS) dataset [3]: Cell Line Data\n",
    "The L1000 data is available online from http://download.lincscloud.org. The L1000 data contain gene expressions for cell lines that are exposed to different genetic and chemical perturbations. The LINCS L1000 platform reduces the 20,000 genes to 1000 genes that is highly expressed and represent 80% of the information [4]. The LINCS project provides many tools to access, integrate and visualize data, such as: iLINCS [5], Enrichr [6], and LINCS Data Portal [7]. These tools have web-based user interfaces, and use clustering and Enrichment analysis.\n",
    "\n",
    "2. The Cancer Cell Line Encyclopedia(CCLE)[8]: Cell Line Data\n",
    "The CCLE data is available from https://www.broadinstitute.org/software/cprg/?q=node/11. The CCLE project contains 1000 human cancer cell lines. The CCLE provides different tools to analyze and visualize the data using mRNA expression, mutation data, DNA copy number and more. One of these tools is CMAP that contains more than 7,000 expression profiles representing 1,309 compounds [9]. CCLE data will be used to benchmark L1000 data.\n",
    "\n",
    "\n",
    "3. RNAseq Data by Klijin et al. [10] across human cell lines:\n",
    "Gene expression information from RNAseq data is available from ArrayExpress database for download from https://www.ebi.ac.uk/arrayexpress/experiments/E-MTAB-2706/. These datasets contain RNA-seq expression data across 675 untreated human cancer cell lines. RNAseq data will be used to benchmark L1000 data for unperturbed cell lines along with other datasets from different sources.\n",
    "\n"
   ]
  },
  {
   "cell_type": "markdown",
   "metadata": {
    "cell_style": "center"
   },
   "source": [
    "We will use the L1000 data processed by the L1K++ pipeline developed by Dr. Ling-Hung at University of Washington Tacoma. L1K++ is implemented in C++ using linear algorithms to make it over 1000x faster than the available pipelines [11]. L1K++ provides processed data different levels ranging from level 1 to level 2.5. A higher level represents more processed data."
   ]
  },
  {
   "cell_type": "markdown",
   "metadata": {},
   "source": [
    "   \n",
    "   Run the following script to load all the required packages in this notebook."
   ]
  },
  {
   "cell_type": "code",
   "execution_count": null,
   "metadata": {
    "ExecuteTime": {
     "end_time": "2017-05-30T00:42:21.936038Z",
     "start_time": "2017-05-30T00:42:17.933Z"
    }
   },
   "outputs": [],
   "source": [
    "suppressMessages(library(\"corpcor\"))\n",
    "suppressMessages(library(\"mclust\"))\n",
    "suppressMessages(library(\"ape\")) \n",
    "suppressMessages(library(\"heatmaply\"))\n",
    "suppressMessages(library(\"sparcl\"))\n",
    "suppressMessages(library(\"factoextra\"))"
   ]
  },
  {
   "cell_type": "markdown",
   "metadata": {},
   "source": [
    "### Reading Datasets"
   ]
  },
  {
   "cell_type": "markdown",
   "metadata": {},
   "source": [
    "The following subsections are to read the raw datasets from their original sources. It is going to take time since we are reading the entire datasets. To skip this step and start directly from the filtered data we prepared for this notebook, skip all next sections and start running the script from \"Loading the Filtered Datasets\" section."
   ]
  },
  {
   "cell_type": "markdown",
   "metadata": {},
   "source": [
    "#### Reading CCLE Data"
   ]
  },
  {
   "cell_type": "code",
   "execution_count": null,
   "metadata": {
    "editable": false,
    "run_control": {
     "frozen": true
    }
   },
   "outputs": [],
   "source": [
    "library(\"stringr\")\n",
    "library(RCurl)\n",
    "library(bitops)\n",
    "#===========================================================\n",
    "#========   CCLE Data -- .res file (> 50000 genes)  ========\n",
    "#===========================================================\n",
    "breakit <- function(x)\n",
    "{\n",
    "  y <- unlist(strsplit(x,\"_\"))[1]\n",
    "  return(y)\n",
    "}\n",
    "\n",
    "#url <- \"https://portals.broadinstitute.org/ccle/downloadFile/DefaultSystemRoot/exp_10/ds_21/CCLE_Expression_2012-09-29.res?downloadff=true&fileId=6760\"\n",
    "#CCLE.res <- read.delim(url, sep=\"\\t\", row.names=NULL, check.names = FALSE) #, quote = \"\"\n",
    "CCLE.res <- read.csv(file = \"./Data/CCLE_Expression_2012-09-29.res\",sep=\"\\t\", row.names=NULL, check.names = FALSE)\n",
    "\n",
    "rownames(CCLE.res) <- CCLE.res$Description\n",
    "CCLE.res[, 1:2] <- NULL\n",
    "\n",
    "colnames(CCLE.res)[1:2073] <- colnames(CCLE.res)[2:2074]\n",
    "CCLE.res <- CCLE.res[, -seq(2,2076, by = 2)]\n",
    "\n",
    "ccleres.names <- colnames(CCLE.res)\n",
    "name.vec2 <- NULL\n",
    "for(i in 1:ncol(CCLE.res))\n",
    "{\n",
    "  name.vec2[[i]] <- breakit(ccleres.names[[i]])\n",
    "  \n",
    "}\n",
    "colnames(CCLE.res) <- name.vec2\n",
    "\n",
    "# to get columns by their partial names: dat[1:4, grep(\"TT\",colnames(dat))]\n",
    "#There are some duplicate cell lines, e.g.:\n",
    "# TT_OESOPHAGUS , TT_THYROID  &\n",
    "# NCIH292_LUNG , NCIH292_LUNG.1 \n",
    "#which(colnames(CCLE.res) == \"TT\") #565 682\n",
    "#which(colnames(CCLE.res) == \"NCIH292\") #963 991\n",
    "# To handle that:\n",
    "CCLE.res <- CCLE.res[, !duplicated(colnames(CCLE.res), fromLast = TRUE)] # 1035 cell lines\n",
    "\n",
    "CCLE.res <- t(CCLE.res)\n",
    "#CCLE.res <- CCLE.res[, -1]\n",
    "\n",
    "rownames(CCLE.res) <-  toupper(str_replace_all(rownames(CCLE.res), \"[^[:alnum:]]\", \"\"))\n",
    "dim(CCLE.res)\n",
    "#options(repr.matrix.max.cols=50, repr.matrix.max.rows=100)\n",
    "CCLE.res <- CCLE.res[, -1]\n",
    "#save(CCLE.res, file=\"./CCLE.res.RData\")\n",
    "head(CCLE.res)\n"
   ]
  },
  {
   "cell_type": "markdown",
   "metadata": {},
   "source": [
    "#### Reading L1K++ Data"
   ]
  },
  {
   "cell_type": "markdown",
   "metadata": {},
   "source": [
    "The average of replicates for each cell line were computed."
   ]
  },
  {
   "cell_type": "code",
   "execution_count": null,
   "metadata": {
    "editable": false,
    "run_control": {
     "frozen": true
    }
   },
   "outputs": [],
   "source": [
    "library(\"stringr\")\n",
    "#===========================================================\n",
    "#========     L1K++ Data -- 3 control types     ============\n",
    "#===========================================================\n",
    "breakit <- function(x)\n",
    "{\n",
    "  y <- unlist(strsplit(x,\"[.]\"))[1]\n",
    "  return(y)\n",
    "}\n",
    "L1K.3types <- read.csv(file = \"./Data/en_3_pert_types_combined.tsv\",sep=\"\\t\", check.names = F, row.names = NULL)\n",
    "\n",
    "rownames(L1K.3types) <- L1K.3types$Sample\n",
    "\n",
    "L1K.names <- rownames(L1K.3types)\n",
    "name.vec <- NULL\n",
    "for(i in 1:nrow(L1K.3types))\n",
    "{\n",
    "  name.vec[[i]] <- breakit(L1K.names[[i]])\n",
    "  \n",
    "}\n",
    "L1K.3types$Sample <- name.vec\n",
    "L1K.avg <- NULL\n",
    "i <- 1\n",
    "for(cline in unique(name.vec))\n",
    "{\n",
    "  means <- colMeans(L1K.3types[which(L1K.3types$Sample == cline), 2:979])\n",
    "  L1K.avg <- rbind(L1K.avg, means)\n",
    "  rownames(L1K.avg)[i] <- cline\n",
    "  i <- i + 1\n",
    "}\n",
    "rownames(L1K.avg) <-  toupper(str_replace_all(rownames(L1K.avg), \"[^[:alnum:]]\", \"\"))\n",
    "dim(L1K.avg) # 71 cell lines\n",
    "options(repr.matrix.max.cols=50, repr.matrix.max.rows=100)\n",
    "head(L1K.avg)"
   ]
  },
  {
   "cell_type": "markdown",
   "metadata": {},
   "source": [
    "#### Reading RNAseq Data"
   ]
  },
  {
   "cell_type": "code",
   "execution_count": null,
   "metadata": {
    "editable": false,
    "run_control": {
     "frozen": true
    }
   },
   "outputs": [],
   "source": [
    "library(\"stringr\")\n",
    "#===========================================================\n",
    "#========   RNAseq Data -- 1171 genes  ========\n",
    "#===========================================================\n",
    "\n",
    "ax                    <- read.csv(\"./Data/VSD_Entrez_in_landmark.csv\", header = F)    # File for ARRAY-EXPRESS\n",
    "ax.meta               <- read.table(\"./Data/E_MTAB_2706_sdrf.txt\", header = T, sep=\"\\t\",stringsAsFactors = F, quote = NULL, comment = \"\")\n",
    "\n",
    "row.names(ax)         <- ax$V1\n",
    "\n",
    "ax.celines            <- levels(factor(ax.meta$Characteristics.cell.line.))\n",
    "ax.celines            <-  toupper(str_replace_all(ax.celines, \"[^[:alnum:]]\", \"\"))\n",
    "\n",
    "ax$V1                 <- NULL\n",
    "names(ax)             <- ax.celines\n",
    "dim(ax) # 1171 genes x  675 cell lines\n",
    "\n",
    "landmark.genes <- read.csv(\"./Data/landmark_genes.csv\", header = T)    # File for ARRAY-EXPRESS\n",
    "ax <- ax[intersect(landmark.genes$Entrez.Gene.ID, rownames(ax)), ]\n",
    "ax <- t(ax)\n",
    "dim(ax) #675 cell lines x 978 genes\n",
    "options(repr.matrix.max.cols=50, repr.matrix.max.rows=100)\n",
    "head(ax)"
   ]
  },
  {
   "cell_type": "markdown",
   "metadata": {},
   "source": [
    "### Data Standardization"
   ]
  },
  {
   "cell_type": "markdown",
   "metadata": {},
   "source": [
    "we standardized each one of the three datasets separately by computing the Z score for gene expressions across all cell lines."
   ]
  },
  {
   "cell_type": "code",
   "execution_count": null,
   "metadata": {
    "editable": false,
    "run_control": {
     "frozen": true
    }
   },
   "outputs": [],
   "source": [
    "#----------------------------------------------\n",
    "# Scaling\n",
    "#----------------------------------------------\n",
    "\n",
    "scaled.L1K.avg  <- scale(L1K.avg, center = TRUE, scale = TRUE)\n",
    "scaled.CCLE.res <- scale(CCLE.res, center = TRUE, scale = TRUE)\n",
    "scaled.ax       <- scale(ax, center = TRUE, scale = TRUE)"
   ]
  },
  {
   "cell_type": "markdown",
   "metadata": {},
   "source": [
    "### Intersection of Datasets"
   ]
  },
  {
   "cell_type": "markdown",
   "metadata": {},
   "source": [
    "The following script finds the intersection of genes and cell lines between L1K++ and each one of the other two datasets. For L1K++ and CCLE, 55 cell lines and the landmark genes are found in common. For L1K++ and RNAseq, 41 cell found lines in common. Thus, we have two subsets of L1K++. One is to study with CCLE data and second is to study with RNAseq data."
   ]
  },
  {
   "cell_type": "markdown",
   "metadata": {},
   "source": [
    "The following script subsets the original datasets (L1K++, CCLE, and RNAseq) based on landmark genes and cell lines in common."
   ]
  },
  {
   "cell_type": "code",
   "execution_count": null,
   "metadata": {
    "code_folding": [],
    "editable": false,
    "run_control": {
     "frozen": true,
     "marked": false
    }
   },
   "outputs": [],
   "source": [
    "#----------------------------------------------\n",
    "# Intersection\n",
    "#----------------------------------------------\n",
    "# 55 cell lines and 978 genes\n",
    "gene.inters <- intersect(colnames(scaled.CCLE.res), colnames(scaled.L1K.avg))\n",
    "cell.inters <- intersect(rownames(scaled.L1K.avg), rownames(scaled.CCLE.res))\n",
    "scaled.CCLE.res.inters <- scaled.CCLE.res[cell.inters, gene.inters]\n",
    "scaled.L1K.inters      <- scaled.L1K.avg[cell.inters, gene.inters]\n",
    "#---------------------------------\n",
    "# 41 cell lines and 978 genes\n",
    "cell.inters <- intersect(rownames(scaled.L1K.avg), rownames(scaled.ax))\n",
    "length(cell.inters)\n",
    "scaled.L1K.inters.ax   <- scaled.L1K.avg[cell.inters, ] #gene.inters **after mapping\n",
    "scaled.ax.inters       <- scaled.ax[cell.inters, ] #gene.inters **after mapping\n",
    "#---------------------------------\n",
    "dim(scaled.CCLE.res.inters) # 55 978\n",
    "dim(scaled.L1K.inters) # 55 978\n",
    "#-------------\n",
    "dim(scaled.L1K.inters.ax) # 41 978\n",
    "dim(scaled.ax.inters) # 41 978\n",
    "#---------------------------------"
   ]
  },
  {
   "cell_type": "markdown",
   "metadata": {},
   "source": [
    "### Loading & Visualizing the Filtered Datasets"
   ]
  },
  {
   "cell_type": "code",
   "execution_count": null,
   "metadata": {
    "ExecuteTime": {
     "end_time": "2017-05-30T00:42:00.452456Z",
     "start_time": "2017-05-30T00:42:00.315Z"
    }
   },
   "outputs": [],
   "source": [
    "load(\"./Data/scaled.CCLE.res.inters.RData\")\n",
    "load(\"./Data/scaled.L1K.inters.RData\")\n",
    "load(\"./Data/scaled.L1K.inters.ax.RData\")\n",
    "load(\"./Data/scaled.ax.inters.RData\")"
   ]
  },
  {
   "cell_type": "markdown",
   "metadata": {},
   "source": [
    "#### Heatmaps for Datasets"
   ]
  },
  {
   "cell_type": "markdown",
   "metadata": {},
   "source": [
    "The heatmaps are generated using <I><B>heatmaply</B></I>. These heatmaps are interactive. Placing the cursor on any point will show the information including the cell line name, the gene name, and the value of the scaled expression. These heatmaps allow zooming in/out from both rows and columns by dragging or using the upper right box that appears when the cursor is placed on it. To reset the visualization settings, zooming in/out, downloading the plot, etc., use the menu bar on the upper right side of the heatmap. \n",
    "To hide the output, click on the left side of the output box."
   ]
  },
  {
   "cell_type": "markdown",
   "metadata": {},
   "source": [
    "The plot below shows the heatmap of the scaled L1K++ gene expressions dataset consisted of 55 cell lines and 978 genes, which are resulted from the intersection of L1K++ and CCLE. "
   ]
  },
  {
   "cell_type": "code",
   "execution_count": null,
   "metadata": {
    "ExecuteTime": {
     "end_time": "2017-05-30T00:43:35.310259Z",
     "start_time": "2017-05-30T00:42:27.806Z"
    }
   },
   "outputs": [],
   "source": [
    "options(warn=-1)\n",
    "suppressMessages(heatmaply(scaled.L1K.inters, k_row = 55, k_col = 978, colors = heat.colors(100)))"
   ]
  },
  {
   "cell_type": "markdown",
   "metadata": {},
   "source": [
    "The plot below shows the heatmap of CCLE gene expressions dataset consisted of 55 cell lines and 978 genes. "
   ]
  },
  {
   "cell_type": "code",
   "execution_count": null,
   "metadata": {
    "ExecuteTime": {
     "end_time": "2017-05-30T00:45:07.730381Z",
     "start_time": "2017-05-30T00:44:15.044Z"
    }
   },
   "outputs": [],
   "source": [
    "options(warn=-1)\n",
    "suppressMessages(heatmaply(scaled.CCLE.res.inters, k_row = 55, k_col = 978, colors = heat.colors(100)))"
   ]
  },
  {
   "cell_type": "markdown",
   "metadata": {},
   "source": [
    "The plot below shows the heatmap of RNAseq expressions dataset consisted of 41 cell lines and 978 genes. "
   ]
  },
  {
   "cell_type": "code",
   "execution_count": null,
   "metadata": {
    "ExecuteTime": {
     "end_time": "2017-05-30T00:46:32.196845Z",
     "start_time": "2017-05-30T00:45:37.575Z"
    }
   },
   "outputs": [],
   "source": [
    "options(warn=-1)\n",
    "suppressMessages(heatmaply(scaled.L1K.inters.ax, k_row = 41, k_col = 978, colors = heat.colors(100)))"
   ]
  },
  {
   "cell_type": "markdown",
   "metadata": {},
   "source": [
    "The plot below shows the heatmap of L1K++ gene expressions dataset consisted of 41 cell lines and 978 genes that resulted from the intersection of L1K++ and RNAseq. "
   ]
  },
  {
   "cell_type": "code",
   "execution_count": null,
   "metadata": {
    "ExecuteTime": {
     "end_time": "2017-05-30T00:48:52.984643Z",
     "start_time": "2017-05-30T00:48:02.070Z"
    }
   },
   "outputs": [],
   "source": [
    "options(warn=-1)\n",
    "suppressMessages(heatmaply(scaled.ax.inters, k_row = 41, k_col = 978, colors = heat.colors(100)))"
   ]
  },
  {
   "cell_type": "markdown",
   "metadata": {},
   "source": [
    "## Analysis & Visualization"
   ]
  },
  {
   "cell_type": "markdown",
   "metadata": {},
   "source": [
    "### Computing Cell Line Distances"
   ]
  },
  {
   "cell_type": "markdown",
   "metadata": {},
   "source": [
    "To find cell line similarities, we calculate the pairwise distances and correlation coefficients between every two cell lines based on their gene expression profiles. Different metrics are used for the distance, such as: Pearson correlation, rank-based correlation (Kendall), and squared Mahalanobis distance. This analysis consist of two main parts. One, analyzing L1K++ compared to CCLE, and second L1K++ compared to CCLE in order to benchmark the results."
   ]
  },
  {
   "cell_type": "markdown",
   "metadata": {},
   "source": [
    "#### 1. L1K++  vs. CCLE Data (55 cell lines x 978 genes)"
   ]
  },
  {
   "cell_type": "markdown",
   "metadata": {},
   "source": [
    "The following script computes the two types of correlation coefficients (Pearson & Kendall) and one distance metric (squared Mahalanobis distance) for 55 cell lines in L1K++ and CCLE data based on their expression profiles."
   ]
  },
  {
   "cell_type": "code",
   "execution_count": null,
   "metadata": {
    "ExecuteTime": {
     "end_time": "2017-05-30T00:50:53.779365Z",
     "start_time": "2017-05-30T00:49:34.604Z"
    },
    "code_folding": []
   },
   "outputs": [],
   "source": [
    "#==================================================================================\n",
    "#     Pearson / Kendall Correlation / Squared Mahalanobis Distance\n",
    "#==================================================================================\n",
    "\n",
    "# L1K++ vs. CCLE (55 x 55, cell lines)\n",
    "#-------------------------------------\n",
    "# *.lc = L1K++ data & *.c = CCLE data\n",
    "cor.mat.lc    <- as.dist((1-cor(t(scaled.L1K.inters), method = \"pearson\"))/2)\n",
    "cor.mat.c     <- as.dist((1-cor(t(scaled.CCLE.res.inters), method = \"pearson\"))/2)\n",
    "#...............................................................................\n",
    "cork.mat.lc    <- as.dist((1-cor(t(scaled.L1K.inters), method = \"kendall\"))/2)\n",
    "cork.mat.c     <- as.dist((1-cor(t(scaled.CCLE.res.inters), method = \"kendall\"))/2)\n",
    "#...............................................................................\n",
    "# Mahalanobis Diststance\n",
    "covs <- cov.shrink(scaled.L1K.inters, verbose = F)\n",
    "covs.inverse <- invcov.shrink(covs, verbose = F) \n",
    "distm.mat.lc <- as.dist(apply(scaled.L1K.inters,1,function(i){ \n",
    "  mahalanobis(scaled.L1K.inters,i, covs.inverse, inverted = T)})) \n",
    "#...........\n",
    "covs2 <- cov.shrink(scaled.CCLE.res.inters, verbose = F)\n",
    "covs.inverse2 <- invcov.shrink(covs2, verbose = F) \n",
    "distm.mat.c <- as.dist(apply(scaled.CCLE.res.inters,1,function(i){ \n",
    "  mahalanobis(scaled.CCLE.res.inters,i, covs.inverse2, inverted = T)})) \n"
   ]
  },
  {
   "cell_type": "markdown",
   "metadata": {},
   "source": [
    "#### 2. L1K++  vs. RNAseq Data (41 cell lines x 978 genes)"
   ]
  },
  {
   "cell_type": "markdown",
   "metadata": {},
   "source": [
    "The following script computes the two types of correlation coefficients(Pearson & Kendall) and one distance metric (squared Mahalanobis distance) for 41 cell lines in L1K++ and RNAseq data based on their expression profiles."
   ]
  },
  {
   "cell_type": "code",
   "execution_count": null,
   "metadata": {
    "ExecuteTime": {
     "end_time": "2017-05-30T00:52:23.395497Z",
     "start_time": "2017-05-30T00:51:00.837Z"
    },
    "code_folding": []
   },
   "outputs": [],
   "source": [
    "#==================================================================================\n",
    "#     Pearson / Kendall Correlation / Squared Mahalanobis Distance\n",
    "#==================================================================================\n",
    "# L1K++ vs. RNAseq (41 x 41, cell lines)\n",
    "#-------------------------------------\n",
    "# *.la = L1K++ data & *.a = RNAseq data\n",
    "cor.mat.la    <- as.dist((1-cor(t(scaled.L1K.inters.ax), method = \"pearson\"))/2)\n",
    "cor.mat.a     <- as.dist((1-cor(t(scaled.ax.inters), method = \"pearson\"))/2)\n",
    "#...............................................................................\n",
    "cork.mat.la    <- as.dist((1-cor(t(scaled.L1K.inters.ax), method = \"kendall\"))/2)\n",
    "cork.mat.a     <- as.dist((1-cor(t(scaled.ax.inters), method = \"kendall\"))/2)\n",
    "#...............................................................................\n",
    "# Mahalanobis Diststance\n",
    "covs <- cov.shrink(scaled.L1K.inters.ax, verbose = F)\n",
    "covs.inverse <- invcov.shrink(covs, verbose = F) \n",
    "distm.mat.la <- as.dist(apply(scaled.L1K.inters.ax,1,function(i){ \n",
    "  mahalanobis(scaled.L1K.inters.ax,i, covs.inverse, inverted = T)})) \n",
    "#...........\n",
    "covs2 <- cov.shrink(scaled.ax.inters, verbose = F)\n",
    "covs.inverse2 <- invcov.shrink(covs2, verbose = F) \n",
    "distm.mat.a <- as.dist(apply(scaled.ax.inters,1,function(i){ \n",
    "  mahalanobis(scaled.ax.inters,i, covs.inverse2, inverted = T)})) \n"
   ]
  },
  {
   "cell_type": "markdown",
   "metadata": {},
   "source": [
    "### Analysis Visualization"
   ]
  },
  {
   "cell_type": "markdown",
   "metadata": {},
   "source": [
    "#### A. Distance/Similarity Visualization (Heatmaps & MDSs)"
   ]
  },
  {
   "cell_type": "markdown",
   "metadata": {},
   "source": [
    "In order to improve the readability of the distance/similarity matrices, we use plotly package to visualize. It enables us to read the distance of any interesting point in our heatmap by placing the cursor on it. Since the distance/similarity matrices are symmetric, the upper and lower triangles of the heatmap are identical. Also, we used interactive Multidimensional Scaling plots to visualize the similarity measures between cell lines."
   ]
  },
  {
   "cell_type": "markdown",
   "metadata": {},
   "source": [
    "The heatmaps are generated using <I><B>Plotly</B></I> package. These heatmaps are interactive. Placing the cursor on any point will show the information including the cell line name, the gene name, and the value of the scaled expression. These heatmaps allow zooming in/out from both rows and columns by dragging or using the upper right box that appears when the cursor is placed on it. To reset the visualization settings, zooming in/out, downloading the plot, etc., use the menu bar on the upper right side of the heatmap. \n",
    "To hide the output, click on the left side of the output box."
   ]
  },
  {
   "cell_type": "markdown",
   "metadata": {},
   "source": [
    "The 3D MDS plots are generated by <I><B>Plotly</B></I> package. These plots are interactive. Placing the cursor on any point will show the cell line name and the measures from MDS. To zoom in/out, scroll up/down. Drag the plot to any direction to rotate. The list of cell line names on the right side is interactive as well. Double-clicking on any cell line will hide/show it on the 3D plot. To reset the plot to the original settings, place the cursor on the upper right side to show the menu bar with different tools.\n",
    "\n",
    "These heatmaps allow zooming in/out from both rows and columns by dragging or using the upper right box that appears when the cursor is placed on it. To reset the visualization settings, zooming in/out, downloading the plot, etc., use the menu bar on the upper right side of the heatmap. \n",
    "To hide the output, click on the left side of the output box."
   ]
  },
  {
   "cell_type": "markdown",
   "metadata": {},
   "source": [
    "##### a. L1K++ vs. CCLE (55 cell lines)"
   ]
  },
  {
   "cell_type": "markdown",
   "metadata": {},
   "source": [
    "###### 1. Pearson Correlation Coefficients"
   ]
  },
  {
   "cell_type": "code",
   "execution_count": null,
   "metadata": {
    "ExecuteTime": {
     "end_time": "2017-05-30T00:55:15.991862Z",
     "start_time": "2017-05-30T00:55:10.563Z"
    },
    "code_folding": [],
    "scrolled": false
   },
   "outputs": [],
   "source": [
    "options(warn=-1)\n",
    "m <- as.matrix(cor.mat.lc)\n",
    "a <- plot_ly(x = rownames(m), y = colnames(m),\n",
    "z = m, type = \"heatmap\", colors = colorRamp(c(\"red\", \"yellow\")))\n",
    "#----\n",
    "m2 <- as.matrix(cor.mat.c)\n",
    "b <- plot_ly(x = rownames(m2), y = colnames(m2),\n",
    "z = m2, type = \"heatmap\", colors = colorRamp(c(\"red\", \"yellow\")))\n",
    "#-----\n",
    "subplot(a, b, margin = 0.06)\n",
    "#-----\n",
    "\n",
    "\n",
    "#---------------------------------------------------------------------------------------------------------------\n",
    "cmd <- cmdscale(cor.mat.lc,eig=TRUE, k=3)\n",
    "x <- cmd$points[,1]\n",
    "y <- cmd$points[,2]\n",
    "z <- cmd$points[,3]\n",
    "\n",
    "plot_ly(as.data.frame(as.matrix(cor.mat.lc)), x = x, y = y, z = z, color=rownames(as.data.frame(as.matrix(cor.mat.lc))), width = 700, height = 600) %>%\n",
    "  add_markers() %>%\n",
    "  layout(title = \"MDS L1K++ (Pearson)\", scene = list(xaxis = list(title = 'x'),\n",
    "                      yaxis = list(title = 'y'),\n",
    "                      zaxis = list(title = 'z')))\n",
    "#-----------------\n",
    "cmd <- cmdscale(cor.mat.c,eig=TRUE, k=3)\n",
    "x <- cmd$points[,1]\n",
    "y <- cmd$points[,2]\n",
    "z <- cmd$points[,3]\n",
    "\n",
    "plot_ly(as.data.frame(as.matrix(cor.mat.c)), x = x, y = y, z = z, color=rownames(as.data.frame(as.matrix(cor.mat.c))), width = 700, height = 600) %>%\n",
    "  add_markers() %>%\n",
    "  layout(title = \"MDS CCLE (Pearson)\", scene = list(xaxis = list(title = 'x'),\n",
    "                      yaxis = list(title = 'y'),\n",
    "                      zaxis = list(title = 'z')))\n",
    "\n",
    "#htmlwidgets::saveWidget(a, \"MDSL1KPearson.html\")\n",
    "#htmlwidgets::saveWidget(b, \"MDSCCLEPearson.html\")\n",
    "\n",
    "#embed_notebook(a)\n",
    "#embed_notebook(b)"
   ]
  },
  {
   "cell_type": "markdown",
   "metadata": {},
   "source": [
    "###### 2. Kendall Correlation Coefficients"
   ]
  },
  {
   "cell_type": "code",
   "execution_count": null,
   "metadata": {
    "ExecuteTime": {
     "end_time": "2017-05-30T00:55:54.527875Z",
     "start_time": "2017-05-30T00:55:43.288Z"
    },
    "code_folding": [],
    "scrolled": false
   },
   "outputs": [],
   "source": [
    "options(warn=-1)\n",
    "m <- as.matrix(cork.mat.lc)\n",
    "a <- plot_ly(x = rownames(m), y = colnames(m),z = m, type = \"heatmap\", colors = colorRamp(c(\"red\", \"yellow\")))\n",
    "#------\n",
    "m2 <- as.matrix(cork.mat.c)\n",
    "b <- plot_ly(x = rownames(m2), y = colnames(m2),z = m2, type = \"heatmap\", colors = colorRamp(c(\"red\", \"yellow\")))\n",
    "#------\n",
    "subplot(a, b, margin = 0.06)\n",
    "\n",
    "#---------------------------------------------------------------------------------------------------------------\n",
    "\n",
    "cmd <- cmdscale(cor.mat.lc,eig=TRUE, k=3)\n",
    "x <- cmd$points[,1]\n",
    "y <- cmd$points[,2]\n",
    "z <- cmd$points[,3]\n",
    "\n",
    "plot_ly(as.data.frame(as.matrix(cork.mat.lc)), x = x, y = y, z = z, color=rownames(as.data.frame(as.matrix(cork.mat.lc))), width = 700, height = 600) %>%\n",
    "  add_markers() %>%\n",
    "  layout(title = \"MDS L1K++ (Kendall)\", scene = list(xaxis = list(title = 'x'),\n",
    "                      yaxis = list(title = 'y'),\n",
    "                      zaxis = list(title = 'z')))\n",
    "#--------------\n",
    "cmd <- cmdscale(cork.mat.c,eig=TRUE, k=3)\n",
    "x <- cmd$points[,1]\n",
    "y <- cmd$points[,2]\n",
    "z <- cmd$points[,3]\n",
    "\n",
    "plot_ly(as.data.frame(as.matrix(cork.mat.c)), x = x, y = y, z = z, color=rownames(as.data.frame(as.matrix(cork.mat.c))), width = 700, height = 600) %>%\n",
    "  add_markers() %>%\n",
    "  layout(title = \"MDS CCLE (Kendall)\", scene = list(xaxis = list(title = 'x'),\n",
    "                      yaxis = list(title = 'y'),\n",
    "                      zaxis = list(title = 'z')))\n",
    "\n",
    "#htmlwidgets::saveWidget(a, \"MDSL1KKendall.html\")\n",
    "#htmlwidgets::saveWidget(b, \"MDSCCLEKendall.html\")\n",
    "\n",
    "#embed_notebook(a)\n",
    "#embed_notebook(b)"
   ]
  },
  {
   "cell_type": "markdown",
   "metadata": {},
   "source": [
    "###### 3. Squared Mahalanobis Distance"
   ]
  },
  {
   "cell_type": "code",
   "execution_count": null,
   "metadata": {
    "ExecuteTime": {
     "end_time": "2017-05-30T00:56:39.941897Z",
     "start_time": "2017-05-30T00:56:20.429Z"
    },
    "scrolled": false
   },
   "outputs": [],
   "source": [
    "options(warn=-1)\n",
    "m <- as.matrix(distm.mat.lc)\n",
    "a <- plot_ly(x = rownames(m), y = colnames(m),\n",
    "z = m, type = \"heatmap\", colors = colorRamp(c(\"red\", \"yellow\")))\n",
    "\n",
    "m2 <- as.matrix(distm.mat.c)\n",
    "b <- plot_ly(x = rownames(m2), y = colnames(m2),\n",
    "z = m2, type = \"heatmap\", colors = colorRamp(c(\"red\", \"yellow\")))\n",
    "\n",
    "subplot(a, b, margin = 0.06)\n",
    "\n",
    "#------------------------------------------------------------------------------------------------------\n",
    "\n",
    "cmd <- cmdscale(distm.mat.lc,eig=TRUE, k=3)\n",
    "x <- cmd$points[,1]\n",
    "y <- cmd$points[,2]\n",
    "z <- cmd$points[,3]\n",
    "\n",
    "plot_ly(as.data.frame(as.matrix(distm.mat.lc)), x = x, y = y, z = z, color=rownames(as.data.frame(as.matrix(distm.mat.lc))), width = 700, height = 600) %>%\n",
    "  add_markers() %>%\n",
    "  layout(title = \"MDS L1K++ (Sqr. Mahalanobis)\", scene = list(xaxis = list(title = 'x'),\n",
    "                      yaxis = list(title = 'y'),\n",
    "                      zaxis = list(title = 'z')))\n",
    "#------------------\n",
    "cmd <- cmdscale(distm.mat.c,eig=TRUE, k=3)\n",
    "x <- cmd$points[,1]\n",
    "y <- cmd$points[,2]\n",
    "z <- cmd$points[,3]\n",
    "\n",
    "plot_ly(as.data.frame(as.matrix(distm.mat.c)), x = x, y = y, z = z, color=rownames(as.data.frame(as.matrix(distm.mat.c))), width = 700, height = 600) %>%\n",
    "  add_markers() %>%\n",
    "  layout(title = \"MDS CCLE (Sqr. Mahalanobis)\", scene = list(xaxis = list(title = 'x'),\n",
    "                      yaxis = list(title = 'y'),\n",
    "                      zaxis = list(title = 'z')))\n",
    "\n",
    "\n",
    "#htmlwidgets::saveWidget(a, \"MDSL1KMahalanobis.html\")\n",
    "#htmlwidgets::saveWidget(b, \"MDSCCLEMahalanobis.html\")\n",
    "\n",
    "\n",
    "#embed_notebook(a)\n",
    "#embed_notebook(b)"
   ]
  },
  {
   "cell_type": "markdown",
   "metadata": {},
   "source": [
    "##### b. L1K++ vs. RNAseq (41 cell lines)"
   ]
  },
  {
   "cell_type": "markdown",
   "metadata": {},
   "source": [
    "###### 1. Pearson Correlation Coefficients"
   ]
  },
  {
   "cell_type": "code",
   "execution_count": null,
   "metadata": {
    "ExecuteTime": {
     "end_time": "2017-05-30T00:57:16.949094Z",
     "start_time": "2017-05-30T00:57:09.204Z"
    },
    "run_control": {
     "marked": false
    },
    "scrolled": false
   },
   "outputs": [],
   "source": [
    "options(warn=-1)\n",
    "m <- as.matrix(cor.mat.la)\n",
    "a <- plot_ly(x = rownames(m), y = colnames(m),\n",
    "z = m, type = \"heatmap\", colors = colorRamp(c(\"red\", \"yellow\")))\n",
    "\n",
    "m2 <- as.matrix(cor.mat.a)\n",
    "b <- plot_ly(x = rownames(m2), y = colnames(m2),\n",
    "z = m2, type = \"heatmap\", colors = colorRamp(c(\"red\", \"yellow\")))\n",
    "#---------------------------\n",
    "subplot(a, b, margin = 0.06)\n",
    "#---------------------------\n",
    "\n",
    "#-------------------------------------------------------------------------------------------------------------------------\n",
    "cmd <- cmdscale(cor.mat.la,eig=TRUE, k=3)\n",
    "x <- cmd$points[,1]\n",
    "y <- cmd$points[,2]\n",
    "z <- cmd$points[,3]\n",
    "\n",
    "plot_ly(as.data.frame(as.matrix(cor.mat.la)), x = x, y = y, z = z, color=rownames(as.data.frame(as.matrix(cor.mat.la))), width = 700, height = 600) %>%\n",
    "  add_markers() %>%\n",
    "  layout(title = \"MDS L1K++ (Pearson)\", scene = list(xaxis = list(title = 'x'),\n",
    "                      yaxis = list(title = 'y'),\n",
    "                      zaxis = list(title = 'z')))\n",
    "#-----------------------\n",
    "cmd <- cmdscale(cor.mat.a,eig=TRUE, k=3)\n",
    "x <- cmd$points[,1]\n",
    "y <- cmd$points[,2]\n",
    "z <- cmd$points[,3]\n",
    "\n",
    "plot_ly(as.data.frame(as.matrix(cor.mat.a)), x = x, y = y, z = z, color=rownames(as.data.frame(as.matrix(cor.mat.a))), width = 700, height = 600) %>%\n",
    "  add_markers() %>%\n",
    "  layout(title = \"MDS RNAseq (Pearson)\", scene = list(xaxis = list(title = 'x'),\n",
    "                      yaxis = list(title = 'y'),\n",
    "                      zaxis = list(title = 'z')))\n",
    "\n",
    "#htmlwidgets::saveWidget(a, \"MDSL1KXPearson).html\")\n",
    "#htmlwidgets::saveWidget(b, \"MDSRNAseqPearson.html\")\n",
    "\n",
    "#embed_notebook(a)\n",
    "#embed_notebook(b)"
   ]
  },
  {
   "cell_type": "markdown",
   "metadata": {},
   "source": [
    "###### 2. Kendall Correlation Coefficients"
   ]
  },
  {
   "cell_type": "code",
   "execution_count": null,
   "metadata": {
    "ExecuteTime": {
     "end_time": "2017-05-30T00:58:23.387795Z",
     "start_time": "2017-05-30T00:58:15.046Z"
    },
    "scrolled": false
   },
   "outputs": [],
   "source": [
    "options(warn=-1)\n",
    "m <- as.matrix(cork.mat.la)\n",
    "a <- plot_ly(x = rownames(m), y = colnames(m),\n",
    "z = m, type = \"heatmap\", colors = colorRamp(c(\"red\", \"yellow\")))\n",
    "\n",
    "m2 <- as.matrix(cork.mat.a)\n",
    "b <- plot_ly(x = rownames(m2), y = colnames(m2),\n",
    "z = m2, type = \"heatmap\", colors = colorRamp(c(\"red\", \"yellow\")))\n",
    "#----------------------------\n",
    "subplot(a, b, margin = 0.06)\n",
    "#----------------------------\n",
    "\n",
    "#--------------------------------------------------------------------------------------------------------------------------------\n",
    "cmd <- cmdscale(cork.mat.la,eig=TRUE, k=3)\n",
    "x <- cmd$points[,1]\n",
    "y <- cmd$points[,2]\n",
    "z <- cmd$points[,3]\n",
    "\n",
    "a <- plot_ly(as.data.frame(as.matrix(cork.mat.la)), x = x, y = y, z = z, color=rownames(as.data.frame(as.matrix(cork.mat.la))), width = 700, height = 600) %>%\n",
    "  add_markers() %>%\n",
    "  layout(title = \"MDS L1K++ (Kendall)\", scene = list(xaxis = list(title = 'x'),\n",
    "                      yaxis = list(title = 'y'),\n",
    "                      zaxis = list(title = 'z')))\n",
    "#-----------------\n",
    "cmd <- cmdscale(cork.mat.a,eig=TRUE, k=3)\n",
    "x <- cmd$points[,1]\n",
    "y <- cmd$points[,2]\n",
    "z <- cmd$points[,3]\n",
    "\n",
    "b <- plot_ly(as.data.frame(as.matrix(cork.mat.a)), x = x, y = y, z = z, color=rownames(as.data.frame(as.matrix(cork.mat.a))), width = 700, height = 600) %>%\n",
    "  add_markers() %>%\n",
    "  layout(title = \"MDS RNAseq (Kendall)\", scene = list(xaxis = list(title = 'x'),\n",
    "                      yaxis = list(title = 'y'),\n",
    "                      zaxis = list(title = 'z')))\n",
    "\n",
    "#htmlwidgets::saveWidget(a, \"MDSL1KXKendall.html\")\n",
    "#htmlwidgets::saveWidget(b, \"MDSRNAseqKendall.html\")\n",
    "\n",
    "embed_notebook(a)\n",
    "embed_notebook(b)"
   ]
  },
  {
   "cell_type": "markdown",
   "metadata": {},
   "source": [
    "###### 3. Squared Mahalanobis Distance"
   ]
  },
  {
   "cell_type": "code",
   "execution_count": null,
   "metadata": {
    "ExecuteTime": {
     "end_time": "2017-05-30T01:03:59.381696Z",
     "start_time": "2017-05-30T01:03:51.236Z"
    },
    "scrolled": false
   },
   "outputs": [],
   "source": [
    "options(warn=-1)\n",
    "m <- as.matrix(distm.mat.la)\n",
    "a <- plot_ly(x = rownames(m), y = colnames(m),\n",
    "z = m, type = \"heatmap\", colors = colorRamp(c(\"red\", \"yellow\")))\n",
    "\n",
    "m2 <- as.matrix(distm.mat.a)\n",
    "b <- plot_ly(x = rownames(m2), y = colnames(m2),\n",
    "z = m2, type = \"heatmap\", colors = colorRamp(c(\"red\", \"yellow\")))\n",
    "#---------------------------\n",
    "subplot(a, b, margin = 0.06)\n",
    "#---------------------------\n",
    "\n",
    "#-------------------------------------------------------------------------------------------------------------\n",
    "cmd <- cmdscale(distm.mat.la,eig=TRUE, k=3)\n",
    "x <- cmd$points[,1]\n",
    "y <- cmd$points[,2]\n",
    "z <- cmd$points[,3]\n",
    "\n",
    "a <- plot_ly(as.data.frame(as.matrix(distm.mat.la)), x = x, y = y, z = z, color=rownames(as.data.frame(as.matrix(distm.mat.la))), width = 700, height = 600) %>%\n",
    "  add_markers() %>%\n",
    "  layout(title = \"MDS L1K++ (Sqr. Mahalanobis)\", scene = list(xaxis = list(title = 'x'),\n",
    "                      yaxis = list(title = 'y'),\n",
    "                      zaxis = list(title = 'z')))\n",
    "#------------------------------------------\n",
    "cmd <- cmdscale(distm.mat.a,eig=TRUE, k=3)\n",
    "x <- cmd$points[,1]\n",
    "y <- cmd$points[,2]\n",
    "z <- cmd$points[,3]\n",
    "\n",
    "b <- plot_ly(as.data.frame(as.matrix(distm.mat.a)), x = x, y = y, z = z, color=rownames(as.data.frame(as.matrix(distm.mat.a))), width = 700, height = 600) %>%\n",
    "  add_markers() %>%\n",
    "  layout(title = \"MDS RNAseq (Sqr. Mahalanobis)\", scene = list(xaxis = list(title = 'x'),\n",
    "                      yaxis = list(title = 'y'),\n",
    "                      zaxis = list(title = 'z')))\n",
    "\n",
    "#htmlwidgets::saveWidget(a, \"MDSL1KXMahalanobis.html\")\n",
    "#htmlwidgets::saveWidget(b, \"MDSRNAseqMahalanobis.html\")\n",
    "\n",
    "embed_notebook(a)\n",
    "embed_notebook(b)"
   ]
  },
  {
   "cell_type": "markdown",
   "metadata": {},
   "source": [
    "<html>\n",
    "<head>\n",
    "  <link rel=\"import\" href=\"./MDSCCLEPearson.html\">\n",
    "</head>\n",
    "</html>"
   ]
  },
  {
   "cell_type": "markdown",
   "metadata": {},
   "source": [
    "#### B. Clustering Visualization"
   ]
  },
  {
   "cell_type": "markdown",
   "metadata": {
    "run_control": {
     "marked": false
    }
   },
   "source": [
    "Clustering is an effective tool in this project to explore data and discover patterns in cell lines across different perturbations. In particular, we use some clustering approaches as a similarity measurement [12]. Hierarchical clustering and model-based clustering are used to cluster similar cell lines and similar drugs. Hierarchical clustering algorithms return the clusters in a hierarchical structure and do not require a prior knowledge of the number of the clusters [13]. Model-based clustering can be a good alternative to heuristic algorithms using some mathematical models such as decision trees [14]. We cluster cell lines based on their gene expressions, and then compute the adjust rand index to assess the clustering of each two datasets. R Packages are used in this study. For hierarchical clustering, we use <B><I>\"stats\"</I></B> package to build the hierarchical clusters, and for model-based clustering, we use <B><I>\"mclust\"</I></B> package"
   ]
  },
  {
   "cell_type": "markdown",
   "metadata": {
    "format": "row",
    "run_control": {
     "marked": false
    }
   },
   "source": [
    "##### Hierarchical Clustering"
   ]
  },
  {
   "cell_type": "markdown",
   "metadata": {},
   "source": [
    "The following scripts includes a function that takes two distance matrices, a model name, and a threshold as parameters to test different numbers of clusters for each two datasets (L1K++ vs. CCLE & L1K++ vs. RNAseq) and print all the combinations of clusters number that gives an adjust rand index greater than the threshold. To start the process, first, the following script should be run."
   ]
  },
  {
   "cell_type": "code",
   "execution_count": null,
   "metadata": {
    "ExecuteTime": {
     "end_time": "2017-05-30T01:43:33.733698Z",
     "start_time": "2017-05-30T01:43:33.607Z"
    },
    "cell_style": "center",
    "code_folding": [
     3
    ],
    "format": "row"
   },
   "outputs": [],
   "source": [
    "findOptNumClust.hc <<- function(dist.mat1, dist.mat2, model, thrsh)\n",
    "{\n",
    "  thrshold  <- thrsh\n",
    "  for(i in 2:15)\n",
    "  {\n",
    "    for(j in 2:15)\n",
    "    {\n",
    "      #-------------------\n",
    "      ARI   <<- NULL\n",
    "      ARI2  <<- NULL\n",
    "      \n",
    "      hc1 <- cutree(hclust(dist.mat1, method = model), i)\n",
    "      hc2 <- cutree(hclust(dist.mat2, method = model), j) \n",
    "        \n",
    "      tryCatch({\n",
    "        if(adjustedRandIndex(hc1, hc2) >= thrshold)\n",
    "        {\n",
    "          ARI  <<- adjustedRandIndex(hc1, hc2) \n",
    "          cat(\"======================================\\n\")\n",
    "          cat(\"#cluster_1 :\", i, \"  | \")\n",
    "          cat(\"#cluster_2 :\", j, \"\\n\")\n",
    "          cat(\"threshold :\", thrshold, \" | \")\n",
    "          cat(\"Model: \", model, \"\\n\")\n",
    "          cat(\"         --------------------------\\n\")\n",
    "          cat(\"ARI :\", ARI, \"\\n\")\n",
    "        }\n",
    "      }, error=function(e){cat(\"ERROR:\",conditionMessage(e), \"\\n\")}) \n",
    "      #-------------------\n",
    "      j <- j + 1;\n",
    "    }\n",
    "    i <- i + 1;\n",
    "  }\n",
    "}"
   ]
  },
  {
   "cell_type": "markdown",
   "metadata": {},
   "source": [
    "Now, we call the function <B><I>findOptimalNumClust.hc()</I></B> and send the desired parameters including: the distance matrices for the two datasets we are clustering, the model type, and the threshold for the adjust rand index values. Before running the following script, set the four parameters to the dsired values, then run the script."
   ]
  },
  {
   "cell_type": "code",
   "execution_count": null,
   "metadata": {
    "ExecuteTime": {
     "end_time": "2017-05-30T02:16:42.861974Z",
     "start_time": "2017-05-30T02:16:41.717Z"
    },
    "cell_style": "center",
    "code_folding": [],
    "format": "row",
    "scrolled": true
   },
   "outputs": [],
   "source": [
    "# Set/Change the parameters as desired:\n",
    "# 1st parameter: distance matrix for the 1st dataset (one of the two versions of L1K++ data)\n",
    "# 2nd parameter: distance matrix for the 2nd dataset (CCLE | RNAseq)\n",
    "# (see section: \"Computing Cell Line Distance\" to find the matrices names)\n",
    "# 3rd parameter: cluster link type = {complete | average}\n",
    "# 4th parameter: threshold to print the numbers of clusters that gives ARI are >= threshold\n",
    "# Here we are setting the parameters to some values\n",
    "dist.mat  <- cor.mat.lc\n",
    "dist.mat2 <- cor.mat.c\n",
    "link      <- \"complete\"\n",
    "threshold <- 0.25\n",
    "\n",
    "#---------------------------------------------------------\n",
    "findOptNumClust.hc(dist.mat, dist.mat2, link, threshold)"
   ]
  },
  {
   "cell_type": "markdown",
   "metadata": {},
   "source": [
    "The output above helps us pick the best number of clusters for each one of the two datasets based on the clustering adjust rand index. It shows different combinations of the number of clusters for the two datasets we are studying.\n",
    "\n",
    "After many experiments, we have the next tables that show the top results of the clustering analysis based on the adjust rand values. For L1K++ vs. RNAseq, the hierarchical clustering based on Mahalanobis distance is the best we can obtain from the two datasets. For L1K++ vs. CCLE, the top adjust rand values using different distance metrics are significantly higher than the ones resulted from the previous two datasets (L1K++ vs. RNAseq). "
   ]
  },
  {
   "cell_type": "markdown",
   "metadata": {},
   "source": [
    "<table><tr><td><img src='./hclust_result1.png' style=\"width: 800px;\"></td></tr><tr><td><img src='hclust_result2.png' style=\"width: 800px;\"></td></tr></table>"
   ]
  },
  {
   "cell_type": "markdown",
   "metadata": {},
   "source": [
    "To visualize the clustering results for L1K++ against each one of the other two datasets, we can change the parameters of the following functions to visualize any dataset clustering result selecting a distance matrix, number of clusters, and visualization format."
   ]
  },
  {
   "cell_type": "code",
   "execution_count": null,
   "metadata": {
    "ExecuteTime": {
     "end_time": "2017-05-30T02:21:33.687336Z",
     "start_time": "2017-05-30T02:21:33.568Z"
    }
   },
   "outputs": [],
   "source": [
    "# Set/Change the parameters as desired:\n",
    "# 1st parameter: distance matrix for the 1st dataset (one of the two versions of L1K++ data)\n",
    "# 2nd parameter: distance matrix for the 2nd dataset (CCLE | RNAseq)\n",
    "# (see section: \"Computing Cell Line Distance\" to find the matrices names)\n",
    "# 3rd parameter: Number of clusters for the 1st data matrix (just to color the resulted tree)\n",
    "# 4th parameter: Number of clusters for the 2nd data matrix (just to color the resulted tree)\n",
    "# 5th parameter: cluster link type = {complete | average}\n",
    "#.......\n",
    "# Note:\n",
    "#.......\n",
    "# if you run this script without any change, it will use the distance matrices used above \n",
    "# to find the optimal clustering. Although, you can change the nubmer of clusters for each dataset\n",
    "# even if you keep the other parameters the same.\n",
    "dist.mat  <- cor.mat.lc\n",
    "dist.mat2 <- cor.mat.c\n",
    "nuClust   <- 5\n",
    "nuClust2  <- 5\n",
    "link      <- \"complete\""
   ]
  },
  {
   "cell_type": "code",
   "execution_count": null,
   "metadata": {
    "ExecuteTime": {
     "end_time": "2017-05-30T02:22:12.054148Z",
     "start_time": "2017-05-30T02:21:38.108Z"
    },
    "run_control": {
     "marked": false
    }
   },
   "outputs": [],
   "source": [
    "hc <- hclust(dist.mat, method = link)\n",
    "y = cutree(hc, nuClust)\n",
    "par(cex=.6, cex.main=1.5)\n",
    "ColorDendrogram(hc, y = y, labels = names(y), main = \"Cell Line Clustering\", branchlength = 0.1, xlab=\"\")\n",
    "options(repr.plot.width=8, repr.plot.height=5)\n",
    "#.....................................................\n",
    "hc2 <- hclust(dist.mat2, method = link)\n",
    "y2 = cutree(hc2, nuClust2)\n",
    "par(cex=.6, cex.main=1.5)\n",
    "ColorDendrogram(hc2, y = y2, labels = names(y2), main = \"Cell Line Clustering\", branchlength = 0.1, xlab=\"\")\n",
    "options(repr.plot.width=8, repr.plot.height=5)"
   ]
  },
  {
   "cell_type": "markdown",
   "metadata": {},
   "source": [
    "The following script is just another way to visualize the hierarchical clustering for the two datasets."
   ]
  },
  {
   "cell_type": "code",
   "execution_count": null,
   "metadata": {
    "ExecuteTime": {
     "end_time": "2017-05-30T02:26:19.401919Z",
     "start_time": "2017-05-30T02:26:18.484Z"
    }
   },
   "outputs": [],
   "source": [
    "hc <- hclust(dist.mat, method = link)\n",
    "hcd = as.dendrogram(hc, hang=0.3)\n",
    "par(cex=.6, cex.main=1.5)\n",
    "plot(hcd, type = \"triangle\", main= \"Cell Line Clustering\")\n",
    "options(repr.plot.width=9, repr.plot.height=5)\n",
    "\n",
    "hc2 <- hclust(dist.mat2, method = link)\n",
    "hcd2 = as.dendrogram(hc2, hang=0.3)\n",
    "par(cex=.6, cex.main=1.5)\n",
    "plot(hcd2, type = \"triangle\", main= \"Cell Line Clustering\")\n",
    "options(repr.plot.width=9, repr.plot.height=5)"
   ]
  },
  {
   "cell_type": "markdown",
   "metadata": {},
   "source": [
    "The following script show the clustering for the two datasets in a different way from the trees. You can set the format of the plot by choosing one of these options:"
   ]
  },
  {
   "cell_type": "code",
   "execution_count": null,
   "metadata": {
    "ExecuteTime": {
     "end_time": "2017-05-30T02:26:45.820923Z",
     "start_time": "2017-05-30T02:26:26.128Z"
    }
   },
   "outputs": [],
   "source": [
    "# format: \"unrooted\" | \"fan\" | \"radial\"\n",
    "format <- \"unrooted\""
   ]
  },
  {
   "cell_type": "code",
   "execution_count": null,
   "metadata": {
    "ExecuteTime": {
     "end_time": "2017-05-30T02:27:27.857202Z",
     "start_time": "2017-05-30T02:26:43.763Z"
    }
   },
   "outputs": [],
   "source": [
    "#.......................\n",
    "clus <- cutree(hclust(dist.mat, method = link), nuClust)\n",
    "pal = rainbow(nuClust, alpha=0.95) \n",
    "par(cex=.9, cex.main=1.5, mar=c(0,0,0,0))\n",
    "options(repr.plot.width=5, repr.plot.height=5)\n",
    "plot(as.phylo(hclust(dist.mat, method = link)), type = format , tip.color = pal[clus]) # unrooted , fan, radial\n",
    "#.......................................................................\n",
    "clus2 <- cutree(hclust(dist.mat2, method = link), nuClust2)\n",
    "pal2 = rainbow(nuClust2, alpha=0.95) \n",
    "par(cex=.9, cex.main=1.5, mar=c(0,0,0,0))\n",
    "options(repr.plot.width=5, repr.plot.height=5)\n",
    "plot(as.phylo(hclust(dist.mat2, method = link)), type = format , tip.color = pal2[clus2]) # unrooted , fan, radial"
   ]
  },
  {
   "cell_type": "markdown",
   "metadata": {
    "format": "row",
    "hide_input": false
   },
   "source": [
    "##### Model-based Clustering"
   ]
  },
  {
   "cell_type": "markdown",
   "metadata": {},
   "source": [
    "Since we are clustering to benchmark cell line similarities in L1K++ with each one of the two datasets: CCLE, RNAseq, we want to find the optimal number of clusters that gives the highest adjust rand index for each two datasets.  \n",
    "  \n",
    "The following script includes a function that generates hc objects for the two datasets to initialize the mclust with."
   ]
  },
  {
   "cell_type": "code",
   "execution_count": null,
   "metadata": {
    "ExecuteTime": {
     "end_time": "2017-05-30T02:29:12.520749Z",
     "start_time": "2017-05-30T02:29:12.484Z"
    },
    "code_folding": [
     1
    ]
   },
   "outputs": [],
   "source": [
    "findOptimalNumClust.mc <- function(data1, data2, threshold, model.h, model.m)\n",
    "{\n",
    "hc1 <<- hc(data1, modelName = model.h)\n",
    "hc2 <<- hc(data2, modelName = model.h)\n",
    "for(g1 in 2:15)\n",
    "{\n",
    "  for(g2 in 2:15)\n",
    "  {\n",
    "    mc1 <- Mclust(data1, modelNames = model.m, G = g1, initialization = list(hcPairs= hc1))\n",
    "    mc2 <- Mclust(data2, modelNames = model.m, G = g2, initialization = list(hcPairs= hc2))\n",
    "    tryCatch({\n",
    "      if(adjustedRandIndex(mc1$classification, mc2$classification) >= threshold)\n",
    "      {\n",
    "        ARI  <- adjustedRandIndex(mc1$classification, mc2$classification)\n",
    "        cat(\"# clusters_L1K :\", g1, \"\\n\")\n",
    "        cat(\"# clusters_2nd :\", g2, \"\\n\")\n",
    "        cat(\"threshold :\", threshold, \"\\n\")\n",
    "        \n",
    "        cat(\"ARI :\", ARI, \"\\n\")\n",
    "        cat(\"---------------------------------\\n\")\n",
    "      }\n",
    "    }, error=function(e){cat(\"ERROR :\",conditionMessage(e), \"\\n\")})\n",
    "  }\n",
    "}\n",
    "}"
   ]
  },
  {
   "cell_type": "markdown",
   "metadata": {},
   "source": [
    "Now we call the function after setting the parameters to the desired values."
   ]
  },
  {
   "cell_type": "code",
   "execution_count": null,
   "metadata": {
    "ExecuteTime": {
     "end_time": "2017-05-30T02:31:32.110403Z",
     "start_time": "2017-05-30T02:29:17.829Z"
    },
    "scrolled": true
   },
   "outputs": [],
   "source": [
    "#------------------------------------------------------------------\n",
    "# There are 4 data matrices(their names on the right hand):\n",
    "#------------------------------------------------------------------\n",
    "# L1Kc:   its cell lines intersect with CCLE    --> scaled.L1K.inters\n",
    "# CCLE:    ---     ---     ---     ---     ---  --> scaled.CCLE.res.inters\n",
    "# L1Ka:   its cell lines intersect with RNAseq  --> scaled.L1K.inters.ax\n",
    "# RNAseq:  ---     ---     ---     ---     ---  --> scaled.RNAseq.inters\n",
    "data1      <<- scaled.L1K.inters\n",
    "data2      <<- scaled.CCLE.res.inters\n",
    "#------------------------------------------------------------------\n",
    "threshold  <<- 0.06   # threshold of Adjust rand index values\n",
    "model.h    <<- \"EEE\"  # pick one of those two models {EEE | EII} for hc\n",
    "model.m    <<- \"EEI\"  # pick one of those two models {EEI | EII} for mclust\n",
    "#------------------------------------------------------------------\n",
    "\n",
    "findOptimalNumClust.mc(data1, data2, threshold, model.h, model.m)"
   ]
  },
  {
   "cell_type": "markdown",
   "metadata": {},
   "source": [
    "After getting the output of the function, we can select the number of clusters for each of the two datasets we are testing, which gives the largest value of the adjust index rand for the two clusterings. We use these parameters to build the final clusterings in order to visualize."
   ]
  },
  {
   "cell_type": "code",
   "execution_count": null,
   "metadata": {
    "ExecuteTime": {
     "end_time": "2017-05-30T02:34:45.249523Z",
     "start_time": "2017-05-30T02:34:44.777Z"
    }
   },
   "outputs": [],
   "source": [
    "# Let's say that these numbers of clusters gave the largest ARI value, \n",
    "# we can start building the final clustering based on that\n",
    "numClust1 <- 4\n",
    "numClust2 <- 10\n",
    "mc1 <- Mclust(data1, modelNames = model.m, G = numClust1, initialization = list(hcPairs= hc1))\n",
    "mc2 <- Mclust(data2, modelNames = model.m, G = numClust2, initialization = list(hcPairs= hc2))"
   ]
  },
  {
   "cell_type": "markdown",
   "metadata": {},
   "source": [
    "Then following script prints the clustering results for each one of the two clusterings."
   ]
  },
  {
   "cell_type": "code",
   "execution_count": null,
   "metadata": {
    "ExecuteTime": {
     "end_time": "2017-05-30T02:38:18.494156Z",
     "start_time": "2017-05-30T02:36:02.357Z"
    },
    "scrolled": true
   },
   "outputs": [],
   "source": [
    "cat(\"..............................................\\n\")\n",
    "cat(\"L1K++ Clusters\\n\")\n",
    "cat(\"..............................................\\n\")\n",
    "clusters.lc <- sapply(1:numClust1, function(x){names(which(mc1$classification == x))})\n",
    "noquote(clusters.lc)\n",
    "cat(\"..............................................\\n\")\n",
    "cat(\"2nd Dataset Clusters\\n\")\n",
    "cat(\"..............................................\\n\")\n",
    "clusters.c  <- sapply(1:numClust2, function(x){names(which(mc2$classification == x))})\n",
    "noquote(clusters.c)"
   ]
  },
  {
   "cell_type": "markdown",
   "metadata": {},
   "source": [
    "Now you can use <B><I>\"fviz_cluster\"</I></B> that uses principal components to visualize the clustering for each of the two tested datasets."
   ]
  },
  {
   "cell_type": "code",
   "execution_count": null,
   "metadata": {
    "ExecuteTime": {
     "end_time": "2017-05-30T02:41:57.788407Z",
     "start_time": "2017-05-30T02:38:43.243Z"
    },
    "scrolled": false
   },
   "outputs": [],
   "source": [
    "options(warn=-1)\n",
    "options(repr.plot.width=9, repr.plot.height=5)\n",
    "fviz_cluster(mc1, frame.type = \"norm\", geom = \"text\", main = \"L1K++ Clusters\")\n",
    "fviz_cluster(mc2, frame.type = \"norm\", geom = \"text\", main = \"Second Datasets Clusters\")"
   ]
  },
  {
   "cell_type": "markdown",
   "metadata": {},
   "source": [
    "# References\n",
    "\n"
   ]
  },
  {
   "cell_type": "markdown",
   "metadata": {
    "cell_style": "center"
   },
   "source": [
    "[1] J. Drews, Drug Discovery: A Historical Perspective. Science, vol. 287, no. 5460, pp. 1960-1964, 2000.  \n",
    "[2] W. C. Young, K. Y. Yeung and A. E. Raftery. A Posterior Probability Approach for Gene Regulatory Network Inference in Genetic Perturbation Data. MBE Mathematical Biosciences and Engineering 13.6, 1241-251. Web, 2016.  \n",
    "[3] NIH LINCS Program, Lincsproject.org, 2016. [Online]. Available: http://www.lincsproject.org/data/. [Accessed: 04-Mar-2016]   \n",
    "[4] Gene Expression Data (L1000), 2016. [Online]. Available: http://www.lincscloud.org/l1000/. [Accessed: 04-Mar-2016].  \n",
    "[5] iLincs - DCIC integrative LINCS genomics data portal, Ilincs.org, 2016. [Online]. Available:\n",
    "http://www.ilincs.org/ilincs/#/. [Accessed: 16-Sep-2016]   \n",
    "[6] Enrichr, Amp.pharm.mssm.edu, 2016. [Online]. Available:\n",
    "http://amp.pharm.mssm.edu/Enrichr/. [Accessed: 16-Sep-2016]  \n",
    "[7] LINCS Data Portal, 2016. [Online]. Available: http://www.lincscloud.org/l1000/. [Accessed: 16-Sep-2016]  \n",
    "[8] The Cancer Cell Line Encyclopedia, Broadinstitute.org, 2016. Available:\n",
    "http://www.broadinstitute.org/ccle. [Accessed: 04-Mar-2016].  \n",
    "[9] Cancer Program Resource Gateway, 2016. [Online]. Available: https://www.broadinstitute.org/software/cprg/?q=node/12. [Accessed: 04-Mar-2016].  \n",
    "[10] C. Klijn, J. Settleman, S. Seshagiri and Z. Zhang, Abstract A1-19: A comprehensive transcriptional portrait of human cancer cell lines, Cancer Research, vol. 75, no. 221, pp. A1-19 A1-19, 2015.  \n",
    "[11] L. Hung, L1K++: A Fast Pipeline that Increases the Accuracy of L1000 Gene Expression Data. BD2K-LINCS DCIC, 2015 [Online]. Available: https://youtu.be/jcpEagg1iaQ. [Accessed: 10-Sep-2016]  \n",
    "[12] C. Tang and A. Zhang, An iterative strategy for pattern discovery in high- dimensional data sets. Proceedings of the eleventh international conference on Information and knowledge management - CIKM ’02, 2002.   \n",
    "[13] Hierarchical clustering, 2016. [Online]. Available: http://nlp.stanford.edu/IR-book/html/htmledition/hierarchical clustering-1.html. [Accessed: 04-Mar-2016].  \n",
    "[14] L. Rokach and O. Maimon, Chapter 15 Minkowski : Distance Measures for Numeric Attributes in DATA MINING AND KNOLEDGE DISCOVERY HAND- BOOK, New York: Springer, 2005.   \n",
    "[15] Juliane Schafer, Rainer Opgen-Rhein, Verena Zuber, Miika Ahdesmaki, A. Pedro Duarte Silva and Korbinian Strimmer. (2017). corpcor: Efficient Estimation of Covariance and (Partial) Correlation. R package version 1.6.9. https://CRAN.R-project.org/package=corpcor  \n",
    "[16] Carson Sievert, Chris Parmer, Toby Hocking, Scott Chamberlain, Karthik Ram, Marianne Corvellec and Pedro Despouy (2017). plotly: Create Interactive Web Graphics via 'plotly.js'. R package version 4.6.0. https://CRAN.R-project.org/package=plotly  \n",
    "[17] Maechler, M., Rousseeuw, P., Struyf, A., Hubert, M., Hornik, K.(2017).  cluster: Cluster Analysis Basics and Extensions. R package version 2.0.6.  \n",
    "[18] Hadley Wickham (2017). stringr: Simple, Consistent Wrappers for Common String Operations. R package version 1.2.0. https://CRAN.R-project.org/package=stringr  \n",
    "[19] 'stats': R Core Team (2016). R: A language and environment for statistical computing. R Foundation for Statistical Computing, Vienna, Austria. URL https://www.R-project.org/.  \n",
    "[20] Chris Fraley, Adrian E. Raftery, T. Brendan Murphy, and Luca Scrucca (2012) mclust Version 4 for R: Normal Mixture Modeling for Model-Based Clustering, Classification, and Density Estimation Technical Report No. 597, Department of Statistics, University of Washington.  \n",
    "[21] Julien Pele with Jean-Michel Becu, Herve Abdi and Marie Chabbert (2012). bios2mds: From BIOlogical Sequences to MultiDimensional Scaling. R package version 1.2.2. https://CRAN.Rproject.org/package=bios2mds  \n",
    "[22] Daniel Adler, Duncan Murdoch and others (2017). rgl: 3D Visualization Using OpenGL. R package version 0.98.1. https://CRAN.R-project.org/package=rgl  \n",
    "[23] Paradis E., Claude J. & Strimmer K. 2004. APE: analyses of phylogenetics and evolution in R language. Bioinformatics 20: 289-290.  \n",
    "[24] Andrie de Vries and Brian D. Ripley (2016). ggdendro: Create Dendrograms and Tree Diagrams Using 'ggplot2'. R package version 0.1-20. https://CRAN.R-project.org/package=ggdendro  \n",
    "[25] Tal Galili (2017). heatmaply: Interactive Cluster Heat Maps Using 'plotly'. R package version 0.9.1. https://CRAN.R-project.org/package=heatmaply  \n",
    "[26] Daniela M. Witten and Robert Tibshirani (2013). sparcl: Perform sparse hierarchical clustering and sparse k-means clustering. R package version 1.0.3. https://CRAN.R-project.org/package=sparcl  \n",
    "[27] Alboukadel Kassambara and Fabian Mundt (2017). factoextra: Extract and Visualize the Results of Multivariate Data Analyses. R package version 1.0.4. https://CRAN.R-project.org/package=factoextra  "
   ]
  }
 ],
 "metadata": {
  "_draft": {
   "nbviewer_url": "https://gist.github.com/714524fdebd24ac07d0900323670eaa8"
  },
  "gist": {
   "data": {
    "description": "/Case Study LINCS Data & External Datasets.ipynb",
    "public": false
   },
   "id": "714524fdebd24ac07d0900323670eaa8"
  },
  "hide_input": false,
  "kernelspec": {
   "display_name": "R",
   "language": "R",
   "name": "ir"
  },
  "language_info": {
   "codemirror_mode": "r",
   "file_extension": ".r",
   "mimetype": "text/x-r-source",
   "name": "R",
   "pygments_lexer": "r",
   "version": "3.3.2"
  },
  "latex_envs": {
   "LaTeX_envs_menu_present": true,
   "autocomplete": true,
   "bibliofile": "biblio.bib",
   "cite_by": "key",
   "current_citInitial": 1,
   "eqLabelWithNumbers": true,
   "eqNumInitial": 1,
   "hotkeys": {
    "equation": "Ctrl-E",
    "itemize": "Ctrl-I"
   },
   "labels_anchors": true,
   "latex_user_defs": true,
   "report_style_numbering": true,
   "user_envs_cfg": false
  },
  "toc": {
   "colors": {
    "hover_highlight": "#DAA520",
    "navigate_num": "#000000",
    "navigate_text": "#333333",
    "running_highlight": "#FF0000",
    "selected_highlight": "#FFD700",
    "sidebar_border": "#EEEEEE",
    "wrapper_background": "#FFFFFF"
   },
   "moveMenuLeft": true,
   "nav_menu": {
    "height": "278px",
    "width": "239px"
   },
   "navigate_menu": true,
   "number_sections": false,
   "sideBar": true,
   "threshold": 4,
   "toc_cell": true,
   "toc_position": {
    "height": "606px",
    "left": "0px",
    "right": "989px",
    "top": "154px",
    "width": "194px"
   },
   "toc_section_display": "block",
   "toc_window_display": true,
   "widenNotebook": false
  },
  "varInspector": {
   "cols": {
    "lenName": 16,
    "lenType": 16,
    "lenVar": 40
   },
   "kernels_config": {
    "python": {
     "delete_cmd_postfix": "",
     "delete_cmd_prefix": "del ",
     "library": "var_list.py",
     "varRefreshCmd": "print(var_dic_list())"
    },
    "r": {
     "delete_cmd_postfix": ") ",
     "delete_cmd_prefix": "rm(",
     "library": "var_list.r",
     "varRefreshCmd": "cat(var_dic_list()) "
    }
   },
   "types_to_exclude": [
    "module",
    "function",
    "builtin_function_or_method",
    "instance",
    "_Feature"
   ],
   "window_display": false
  }
 },
 "nbformat": 4,
 "nbformat_minor": 2
}
